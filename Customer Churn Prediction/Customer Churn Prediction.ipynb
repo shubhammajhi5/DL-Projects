{
 "cells": [
  {
   "cell_type": "markdown",
   "id": "668be696",
   "metadata": {},
   "source": [
    "## Binary Classification"
   ]
  },
  {
   "cell_type": "code",
   "execution_count": 1,
   "id": "665f2c98",
   "metadata": {},
   "outputs": [],
   "source": [
    "import pandas as pd\n",
    "import numpy as np\n",
    "import matplotlib.pyplot as plt\n",
    "\n",
    "import warnings\n",
    "warnings.filterwarnings('ignore')"
   ]
  },
  {
   "cell_type": "code",
   "execution_count": 2,
   "id": "8a8b09da",
   "metadata": {},
   "outputs": [
    {
     "data": {
      "text/html": [
       "<div>\n",
       "<style scoped>\n",
       "    .dataframe tbody tr th:only-of-type {\n",
       "        vertical-align: middle;\n",
       "    }\n",
       "\n",
       "    .dataframe tbody tr th {\n",
       "        vertical-align: top;\n",
       "    }\n",
       "\n",
       "    .dataframe thead th {\n",
       "        text-align: right;\n",
       "    }\n",
       "</style>\n",
       "<table border=\"1\" class=\"dataframe\">\n",
       "  <thead>\n",
       "    <tr style=\"text-align: right;\">\n",
       "      <th></th>\n",
       "      <th>RowNumber</th>\n",
       "      <th>CustomerId</th>\n",
       "      <th>Surname</th>\n",
       "      <th>CreditScore</th>\n",
       "      <th>Geography</th>\n",
       "      <th>Gender</th>\n",
       "      <th>Age</th>\n",
       "      <th>Tenure</th>\n",
       "      <th>Balance</th>\n",
       "      <th>NumOfProducts</th>\n",
       "      <th>HasCrCard</th>\n",
       "      <th>IsActiveMember</th>\n",
       "      <th>EstimatedSalary</th>\n",
       "      <th>Exited</th>\n",
       "    </tr>\n",
       "  </thead>\n",
       "  <tbody>\n",
       "    <tr>\n",
       "      <th>0</th>\n",
       "      <td>1</td>\n",
       "      <td>15634602</td>\n",
       "      <td>Hargrave</td>\n",
       "      <td>619</td>\n",
       "      <td>France</td>\n",
       "      <td>Female</td>\n",
       "      <td>42</td>\n",
       "      <td>2</td>\n",
       "      <td>0.00</td>\n",
       "      <td>1</td>\n",
       "      <td>1</td>\n",
       "      <td>1</td>\n",
       "      <td>101348.88</td>\n",
       "      <td>1</td>\n",
       "    </tr>\n",
       "    <tr>\n",
       "      <th>1</th>\n",
       "      <td>2</td>\n",
       "      <td>15647311</td>\n",
       "      <td>Hill</td>\n",
       "      <td>608</td>\n",
       "      <td>Spain</td>\n",
       "      <td>Female</td>\n",
       "      <td>41</td>\n",
       "      <td>1</td>\n",
       "      <td>83807.86</td>\n",
       "      <td>1</td>\n",
       "      <td>0</td>\n",
       "      <td>1</td>\n",
       "      <td>112542.58</td>\n",
       "      <td>0</td>\n",
       "    </tr>\n",
       "    <tr>\n",
       "      <th>2</th>\n",
       "      <td>3</td>\n",
       "      <td>15619304</td>\n",
       "      <td>Onio</td>\n",
       "      <td>502</td>\n",
       "      <td>France</td>\n",
       "      <td>Female</td>\n",
       "      <td>42</td>\n",
       "      <td>8</td>\n",
       "      <td>159660.80</td>\n",
       "      <td>3</td>\n",
       "      <td>1</td>\n",
       "      <td>0</td>\n",
       "      <td>113931.57</td>\n",
       "      <td>1</td>\n",
       "    </tr>\n",
       "    <tr>\n",
       "      <th>3</th>\n",
       "      <td>4</td>\n",
       "      <td>15701354</td>\n",
       "      <td>Boni</td>\n",
       "      <td>699</td>\n",
       "      <td>France</td>\n",
       "      <td>Female</td>\n",
       "      <td>39</td>\n",
       "      <td>1</td>\n",
       "      <td>0.00</td>\n",
       "      <td>2</td>\n",
       "      <td>0</td>\n",
       "      <td>0</td>\n",
       "      <td>93826.63</td>\n",
       "      <td>0</td>\n",
       "    </tr>\n",
       "    <tr>\n",
       "      <th>4</th>\n",
       "      <td>5</td>\n",
       "      <td>15737888</td>\n",
       "      <td>Mitchell</td>\n",
       "      <td>850</td>\n",
       "      <td>Spain</td>\n",
       "      <td>Female</td>\n",
       "      <td>43</td>\n",
       "      <td>2</td>\n",
       "      <td>125510.82</td>\n",
       "      <td>1</td>\n",
       "      <td>1</td>\n",
       "      <td>1</td>\n",
       "      <td>79084.10</td>\n",
       "      <td>0</td>\n",
       "    </tr>\n",
       "  </tbody>\n",
       "</table>\n",
       "</div>"
      ],
      "text/plain": [
       "   RowNumber  CustomerId   Surname  CreditScore Geography  Gender  Age  \\\n",
       "0          1    15634602  Hargrave          619    France  Female   42   \n",
       "1          2    15647311      Hill          608     Spain  Female   41   \n",
       "2          3    15619304      Onio          502    France  Female   42   \n",
       "3          4    15701354      Boni          699    France  Female   39   \n",
       "4          5    15737888  Mitchell          850     Spain  Female   43   \n",
       "\n",
       "   Tenure    Balance  NumOfProducts  HasCrCard  IsActiveMember  \\\n",
       "0       2       0.00              1          1               1   \n",
       "1       1   83807.86              1          0               1   \n",
       "2       8  159660.80              3          1               0   \n",
       "3       1       0.00              2          0               0   \n",
       "4       2  125510.82              1          1               1   \n",
       "\n",
       "   EstimatedSalary  Exited  \n",
       "0        101348.88       1  \n",
       "1        112542.58       0  \n",
       "2        113931.57       1  \n",
       "3         93826.63       0  \n",
       "4         79084.10       0  "
      ]
     },
     "execution_count": 2,
     "metadata": {},
     "output_type": "execute_result"
    }
   ],
   "source": [
    "df = pd.read_csv('customer_churn.csv')\n",
    "\n",
    "df.head()"
   ]
  },
  {
   "cell_type": "code",
   "execution_count": 3,
   "id": "1e59889c",
   "metadata": {},
   "outputs": [
    {
     "data": {
      "text/plain": [
       "(10000, 14)"
      ]
     },
     "execution_count": 3,
     "metadata": {},
     "output_type": "execute_result"
    }
   ],
   "source": [
    "df.shape"
   ]
  },
  {
   "cell_type": "code",
   "execution_count": 4,
   "id": "d83a42ba",
   "metadata": {},
   "outputs": [
    {
     "name": "stdout",
     "output_type": "stream",
     "text": [
      "<class 'pandas.core.frame.DataFrame'>\n",
      "RangeIndex: 10000 entries, 0 to 9999\n",
      "Data columns (total 14 columns):\n",
      " #   Column           Non-Null Count  Dtype  \n",
      "---  ------           --------------  -----  \n",
      " 0   RowNumber        10000 non-null  int64  \n",
      " 1   CustomerId       10000 non-null  int64  \n",
      " 2   Surname          10000 non-null  object \n",
      " 3   CreditScore      10000 non-null  int64  \n",
      " 4   Geography        10000 non-null  object \n",
      " 5   Gender           10000 non-null  object \n",
      " 6   Age              10000 non-null  int64  \n",
      " 7   Tenure           10000 non-null  int64  \n",
      " 8   Balance          10000 non-null  float64\n",
      " 9   NumOfProducts    10000 non-null  int64  \n",
      " 10  HasCrCard        10000 non-null  int64  \n",
      " 11  IsActiveMember   10000 non-null  int64  \n",
      " 12  EstimatedSalary  10000 non-null  float64\n",
      " 13  Exited           10000 non-null  int64  \n",
      "dtypes: float64(2), int64(9), object(3)\n",
      "memory usage: 1.1+ MB\n"
     ]
    }
   ],
   "source": [
    "df.info()"
   ]
  },
  {
   "cell_type": "code",
   "execution_count": 5,
   "id": "69180b61",
   "metadata": {},
   "outputs": [
    {
     "data": {
      "text/plain": [
       "0"
      ]
     },
     "execution_count": 5,
     "metadata": {},
     "output_type": "execute_result"
    }
   ],
   "source": [
    "df.duplicated().sum()"
   ]
  },
  {
   "cell_type": "code",
   "execution_count": 6,
   "id": "14710aa7",
   "metadata": {},
   "outputs": [
    {
     "data": {
      "text/plain": [
       "0    7963\n",
       "1    2037\n",
       "Name: Exited, dtype: int64"
      ]
     },
     "execution_count": 6,
     "metadata": {},
     "output_type": "execute_result"
    }
   ],
   "source": [
    "df['Exited'].value_counts()"
   ]
  },
  {
   "cell_type": "code",
   "execution_count": 7,
   "id": "aaf5bb12",
   "metadata": {},
   "outputs": [
    {
     "data": {
      "text/plain": [
       "0    79.63\n",
       "1    20.37\n",
       "Name: Exited, dtype: float64"
      ]
     },
     "execution_count": 7,
     "metadata": {},
     "output_type": "execute_result"
    }
   ],
   "source": [
    "df['Exited'].value_counts(normalize = True)*100"
   ]
  },
  {
   "cell_type": "code",
   "execution_count": 8,
   "id": "3afcf074",
   "metadata": {},
   "outputs": [
    {
     "data": {
      "text/plain": [
       "France     5014\n",
       "Germany    2509\n",
       "Spain      2477\n",
       "Name: Geography, dtype: int64"
      ]
     },
     "execution_count": 8,
     "metadata": {},
     "output_type": "execute_result"
    }
   ],
   "source": [
    "df['Geography'].value_counts()"
   ]
  },
  {
   "cell_type": "code",
   "execution_count": 9,
   "id": "e913709d",
   "metadata": {},
   "outputs": [
    {
     "data": {
      "text/plain": [
       "Male      5457\n",
       "Female    4543\n",
       "Name: Gender, dtype: int64"
      ]
     },
     "execution_count": 9,
     "metadata": {},
     "output_type": "execute_result"
    }
   ],
   "source": [
    "df['Gender'].value_counts()"
   ]
  },
  {
   "cell_type": "code",
   "execution_count": 10,
   "id": "560bff21",
   "metadata": {},
   "outputs": [
    {
     "data": {
      "text/plain": [
       "1    7055\n",
       "0    2945\n",
       "Name: HasCrCard, dtype: int64"
      ]
     },
     "execution_count": 10,
     "metadata": {},
     "output_type": "execute_result"
    }
   ],
   "source": [
    "df['HasCrCard'].value_counts()"
   ]
  },
  {
   "cell_type": "code",
   "execution_count": 11,
   "id": "9fa5ed45",
   "metadata": {},
   "outputs": [
    {
     "data": {
      "text/plain": [
       "1    5151\n",
       "0    4849\n",
       "Name: IsActiveMember, dtype: int64"
      ]
     },
     "execution_count": 11,
     "metadata": {},
     "output_type": "execute_result"
    }
   ],
   "source": [
    "df['IsActiveMember'].value_counts()"
   ]
  },
  {
   "cell_type": "code",
   "execution_count": 12,
   "id": "86331c19",
   "metadata": {},
   "outputs": [
    {
     "data": {
      "text/html": [
       "<div>\n",
       "<style scoped>\n",
       "    .dataframe tbody tr th:only-of-type {\n",
       "        vertical-align: middle;\n",
       "    }\n",
       "\n",
       "    .dataframe tbody tr th {\n",
       "        vertical-align: top;\n",
       "    }\n",
       "\n",
       "    .dataframe thead th {\n",
       "        text-align: right;\n",
       "    }\n",
       "</style>\n",
       "<table border=\"1\" class=\"dataframe\">\n",
       "  <thead>\n",
       "    <tr style=\"text-align: right;\">\n",
       "      <th></th>\n",
       "      <th>CreditScore</th>\n",
       "      <th>Geography</th>\n",
       "      <th>Gender</th>\n",
       "      <th>Age</th>\n",
       "      <th>Tenure</th>\n",
       "      <th>Balance</th>\n",
       "      <th>NumOfProducts</th>\n",
       "      <th>HasCrCard</th>\n",
       "      <th>IsActiveMember</th>\n",
       "      <th>EstimatedSalary</th>\n",
       "      <th>Exited</th>\n",
       "    </tr>\n",
       "  </thead>\n",
       "  <tbody>\n",
       "    <tr>\n",
       "      <th>0</th>\n",
       "      <td>619</td>\n",
       "      <td>France</td>\n",
       "      <td>Female</td>\n",
       "      <td>42</td>\n",
       "      <td>2</td>\n",
       "      <td>0.00</td>\n",
       "      <td>1</td>\n",
       "      <td>1</td>\n",
       "      <td>1</td>\n",
       "      <td>101348.88</td>\n",
       "      <td>1</td>\n",
       "    </tr>\n",
       "    <tr>\n",
       "      <th>1</th>\n",
       "      <td>608</td>\n",
       "      <td>Spain</td>\n",
       "      <td>Female</td>\n",
       "      <td>41</td>\n",
       "      <td>1</td>\n",
       "      <td>83807.86</td>\n",
       "      <td>1</td>\n",
       "      <td>0</td>\n",
       "      <td>1</td>\n",
       "      <td>112542.58</td>\n",
       "      <td>0</td>\n",
       "    </tr>\n",
       "    <tr>\n",
       "      <th>2</th>\n",
       "      <td>502</td>\n",
       "      <td>France</td>\n",
       "      <td>Female</td>\n",
       "      <td>42</td>\n",
       "      <td>8</td>\n",
       "      <td>159660.80</td>\n",
       "      <td>3</td>\n",
       "      <td>1</td>\n",
       "      <td>0</td>\n",
       "      <td>113931.57</td>\n",
       "      <td>1</td>\n",
       "    </tr>\n",
       "    <tr>\n",
       "      <th>3</th>\n",
       "      <td>699</td>\n",
       "      <td>France</td>\n",
       "      <td>Female</td>\n",
       "      <td>39</td>\n",
       "      <td>1</td>\n",
       "      <td>0.00</td>\n",
       "      <td>2</td>\n",
       "      <td>0</td>\n",
       "      <td>0</td>\n",
       "      <td>93826.63</td>\n",
       "      <td>0</td>\n",
       "    </tr>\n",
       "    <tr>\n",
       "      <th>4</th>\n",
       "      <td>850</td>\n",
       "      <td>Spain</td>\n",
       "      <td>Female</td>\n",
       "      <td>43</td>\n",
       "      <td>2</td>\n",
       "      <td>125510.82</td>\n",
       "      <td>1</td>\n",
       "      <td>1</td>\n",
       "      <td>1</td>\n",
       "      <td>79084.10</td>\n",
       "      <td>0</td>\n",
       "    </tr>\n",
       "  </tbody>\n",
       "</table>\n",
       "</div>"
      ],
      "text/plain": [
       "   CreditScore Geography  Gender  Age  Tenure    Balance  NumOfProducts  \\\n",
       "0          619    France  Female   42       2       0.00              1   \n",
       "1          608     Spain  Female   41       1   83807.86              1   \n",
       "2          502    France  Female   42       8  159660.80              3   \n",
       "3          699    France  Female   39       1       0.00              2   \n",
       "4          850     Spain  Female   43       2  125510.82              1   \n",
       "\n",
       "   HasCrCard  IsActiveMember  EstimatedSalary  Exited  \n",
       "0          1               1        101348.88       1  \n",
       "1          0               1        112542.58       0  \n",
       "2          1               0        113931.57       1  \n",
       "3          0               0         93826.63       0  \n",
       "4          1               1         79084.10       0  "
      ]
     },
     "execution_count": 12,
     "metadata": {},
     "output_type": "execute_result"
    }
   ],
   "source": [
    "df.drop(columns = ['RowNumber', 'CustomerId', 'Surname'], inplace = True)\n",
    "df.head()"
   ]
  },
  {
   "cell_type": "code",
   "execution_count": 13,
   "id": "a107083e",
   "metadata": {},
   "outputs": [
    {
     "data": {
      "text/html": [
       "<div>\n",
       "<style scoped>\n",
       "    .dataframe tbody tr th:only-of-type {\n",
       "        vertical-align: middle;\n",
       "    }\n",
       "\n",
       "    .dataframe tbody tr th {\n",
       "        vertical-align: top;\n",
       "    }\n",
       "\n",
       "    .dataframe thead th {\n",
       "        text-align: right;\n",
       "    }\n",
       "</style>\n",
       "<table border=\"1\" class=\"dataframe\">\n",
       "  <thead>\n",
       "    <tr style=\"text-align: right;\">\n",
       "      <th></th>\n",
       "      <th>CreditScore</th>\n",
       "      <th>Age</th>\n",
       "      <th>Tenure</th>\n",
       "      <th>Balance</th>\n",
       "      <th>NumOfProducts</th>\n",
       "      <th>HasCrCard</th>\n",
       "      <th>IsActiveMember</th>\n",
       "      <th>EstimatedSalary</th>\n",
       "      <th>Exited</th>\n",
       "      <th>Geography_Germany</th>\n",
       "      <th>Geography_Spain</th>\n",
       "      <th>Gender_Male</th>\n",
       "    </tr>\n",
       "  </thead>\n",
       "  <tbody>\n",
       "    <tr>\n",
       "      <th>0</th>\n",
       "      <td>619</td>\n",
       "      <td>42</td>\n",
       "      <td>2</td>\n",
       "      <td>0.00</td>\n",
       "      <td>1</td>\n",
       "      <td>1</td>\n",
       "      <td>1</td>\n",
       "      <td>101348.88</td>\n",
       "      <td>1</td>\n",
       "      <td>0</td>\n",
       "      <td>0</td>\n",
       "      <td>0</td>\n",
       "    </tr>\n",
       "    <tr>\n",
       "      <th>1</th>\n",
       "      <td>608</td>\n",
       "      <td>41</td>\n",
       "      <td>1</td>\n",
       "      <td>83807.86</td>\n",
       "      <td>1</td>\n",
       "      <td>0</td>\n",
       "      <td>1</td>\n",
       "      <td>112542.58</td>\n",
       "      <td>0</td>\n",
       "      <td>0</td>\n",
       "      <td>1</td>\n",
       "      <td>0</td>\n",
       "    </tr>\n",
       "    <tr>\n",
       "      <th>2</th>\n",
       "      <td>502</td>\n",
       "      <td>42</td>\n",
       "      <td>8</td>\n",
       "      <td>159660.80</td>\n",
       "      <td>3</td>\n",
       "      <td>1</td>\n",
       "      <td>0</td>\n",
       "      <td>113931.57</td>\n",
       "      <td>1</td>\n",
       "      <td>0</td>\n",
       "      <td>0</td>\n",
       "      <td>0</td>\n",
       "    </tr>\n",
       "    <tr>\n",
       "      <th>3</th>\n",
       "      <td>699</td>\n",
       "      <td>39</td>\n",
       "      <td>1</td>\n",
       "      <td>0.00</td>\n",
       "      <td>2</td>\n",
       "      <td>0</td>\n",
       "      <td>0</td>\n",
       "      <td>93826.63</td>\n",
       "      <td>0</td>\n",
       "      <td>0</td>\n",
       "      <td>0</td>\n",
       "      <td>0</td>\n",
       "    </tr>\n",
       "    <tr>\n",
       "      <th>4</th>\n",
       "      <td>850</td>\n",
       "      <td>43</td>\n",
       "      <td>2</td>\n",
       "      <td>125510.82</td>\n",
       "      <td>1</td>\n",
       "      <td>1</td>\n",
       "      <td>1</td>\n",
       "      <td>79084.10</td>\n",
       "      <td>0</td>\n",
       "      <td>0</td>\n",
       "      <td>1</td>\n",
       "      <td>0</td>\n",
       "    </tr>\n",
       "  </tbody>\n",
       "</table>\n",
       "</div>"
      ],
      "text/plain": [
       "   CreditScore  Age  Tenure    Balance  NumOfProducts  HasCrCard  \\\n",
       "0          619   42       2       0.00              1          1   \n",
       "1          608   41       1   83807.86              1          0   \n",
       "2          502   42       8  159660.80              3          1   \n",
       "3          699   39       1       0.00              2          0   \n",
       "4          850   43       2  125510.82              1          1   \n",
       "\n",
       "   IsActiveMember  EstimatedSalary  Exited  Geography_Germany  \\\n",
       "0               1        101348.88       1                  0   \n",
       "1               1        112542.58       0                  0   \n",
       "2               0        113931.57       1                  0   \n",
       "3               0         93826.63       0                  0   \n",
       "4               1         79084.10       0                  0   \n",
       "\n",
       "   Geography_Spain  Gender_Male  \n",
       "0                0            0  \n",
       "1                1            0  \n",
       "2                0            0  \n",
       "3                0            0  \n",
       "4                1            0  "
      ]
     },
     "execution_count": 13,
     "metadata": {},
     "output_type": "execute_result"
    }
   ],
   "source": [
    "df = pd.get_dummies(df, columns = ['Geography', 'Gender'], drop_first = True)\n",
    "df.head()"
   ]
  },
  {
   "cell_type": "code",
   "execution_count": 14,
   "id": "73bea66b",
   "metadata": {},
   "outputs": [],
   "source": [
    "X = df.drop(columns = ['Exited'])\n",
    "y = df['Exited']"
   ]
  },
  {
   "cell_type": "code",
   "execution_count": 15,
   "id": "09fed07e",
   "metadata": {},
   "outputs": [],
   "source": [
    "from sklearn.model_selection import train_test_split\n",
    "\n",
    "X_train, X_test, y_train, y_test = train_test_split(X, y, test_size = 0.2, random_state = 1)"
   ]
  },
  {
   "cell_type": "code",
   "execution_count": 16,
   "id": "c0a73633",
   "metadata": {},
   "outputs": [],
   "source": [
    "from sklearn.preprocessing import StandardScaler\n",
    "\n",
    "scaler = StandardScaler()\n",
    "\n",
    "X_train_scaled = scaler.fit_transform(X_train)\n",
    "X_test_scaled = scaler.fit_transform(X_test)"
   ]
  },
  {
   "cell_type": "code",
   "execution_count": 17,
   "id": "1803c227",
   "metadata": {},
   "outputs": [],
   "source": [
    "import tensorflow\n",
    "from tensorflow import keras\n",
    "from tensorflow.keras import Sequential\n",
    "from tensorflow.keras.layers import Dense"
   ]
  },
  {
   "cell_type": "code",
   "execution_count": 18,
   "id": "da3dba69",
   "metadata": {},
   "outputs": [],
   "source": [
    "model = Sequential()\n",
    "\n",
    "model.add(Dense(11, activation = 'relu', input_dim = 11))\n",
    "model.add(Dense(11, activation = 'relu'))\n",
    "model.add(Dense(1, activation = 'sigmoid'))"
   ]
  },
  {
   "cell_type": "code",
   "execution_count": 19,
   "id": "a7b47f04",
   "metadata": {},
   "outputs": [
    {
     "name": "stdout",
     "output_type": "stream",
     "text": [
      "Model: \"sequential\"\n",
      "_________________________________________________________________\n",
      " Layer (type)                Output Shape              Param #   \n",
      "=================================================================\n",
      " dense (Dense)               (None, 11)                132       \n",
      "                                                                 \n",
      " dense_1 (Dense)             (None, 11)                132       \n",
      "                                                                 \n",
      " dense_2 (Dense)             (None, 1)                 12        \n",
      "                                                                 \n",
      "=================================================================\n",
      "Total params: 276\n",
      "Trainable params: 276\n",
      "Non-trainable params: 0\n",
      "_________________________________________________________________\n"
     ]
    }
   ],
   "source": [
    "model.summary()"
   ]
  },
  {
   "cell_type": "code",
   "execution_count": 20,
   "id": "53225774",
   "metadata": {},
   "outputs": [],
   "source": [
    "model.compile(loss = 'binary_crossentropy', optimizer = 'Adam', metrics = ['accuracy'])"
   ]
  },
  {
   "cell_type": "code",
   "execution_count": 21,
   "id": "b0aeef43",
   "metadata": {
    "scrolled": true
   },
   "outputs": [
    {
     "name": "stdout",
     "output_type": "stream",
     "text": [
      "Epoch 1/100\n",
      "200/200 [==============================] - 2s 6ms/step - loss: 0.5145 - accuracy: 0.7809 - val_loss: 0.4782 - val_accuracy: 0.7975\n",
      "Epoch 2/100\n",
      "200/200 [==============================] - 1s 4ms/step - loss: 0.4577 - accuracy: 0.7987 - val_loss: 0.4525 - val_accuracy: 0.7994\n",
      "Epoch 3/100\n",
      "200/200 [==============================] - 1s 4ms/step - loss: 0.4343 - accuracy: 0.8075 - val_loss: 0.4355 - val_accuracy: 0.8100\n",
      "Epoch 4/100\n",
      "200/200 [==============================] - 1s 4ms/step - loss: 0.4196 - accuracy: 0.8200 - val_loss: 0.4230 - val_accuracy: 0.8181\n",
      "Epoch 5/100\n",
      "200/200 [==============================] - 1s 4ms/step - loss: 0.4083 - accuracy: 0.8275 - val_loss: 0.4091 - val_accuracy: 0.8244\n",
      "Epoch 6/100\n",
      "200/200 [==============================] - 1s 4ms/step - loss: 0.3968 - accuracy: 0.8378 - val_loss: 0.3961 - val_accuracy: 0.8319\n",
      "Epoch 7/100\n",
      "200/200 [==============================] - 1s 5ms/step - loss: 0.3852 - accuracy: 0.8423 - val_loss: 0.3814 - val_accuracy: 0.8375\n",
      "Epoch 8/100\n",
      "200/200 [==============================] - 1s 4ms/step - loss: 0.3743 - accuracy: 0.8486 - val_loss: 0.3724 - val_accuracy: 0.8388\n",
      "Epoch 9/100\n",
      "200/200 [==============================] - 1s 4ms/step - loss: 0.3654 - accuracy: 0.8511 - val_loss: 0.3641 - val_accuracy: 0.8400\n",
      "Epoch 10/100\n",
      "200/200 [==============================] - 1s 4ms/step - loss: 0.3587 - accuracy: 0.8544 - val_loss: 0.3593 - val_accuracy: 0.8400\n",
      "Epoch 11/100\n",
      "200/200 [==============================] - 1s 4ms/step - loss: 0.3544 - accuracy: 0.8562 - val_loss: 0.3578 - val_accuracy: 0.8431\n",
      "Epoch 12/100\n",
      "200/200 [==============================] - 1s 4ms/step - loss: 0.3521 - accuracy: 0.8553 - val_loss: 0.3567 - val_accuracy: 0.8394\n",
      "Epoch 13/100\n",
      "200/200 [==============================] - 1s 4ms/step - loss: 0.3495 - accuracy: 0.8597 - val_loss: 0.3550 - val_accuracy: 0.8419\n",
      "Epoch 14/100\n",
      "200/200 [==============================] - 1s 4ms/step - loss: 0.3483 - accuracy: 0.8578 - val_loss: 0.3544 - val_accuracy: 0.8444\n",
      "Epoch 15/100\n",
      "200/200 [==============================] - 1s 4ms/step - loss: 0.3464 - accuracy: 0.8572 - val_loss: 0.3541 - val_accuracy: 0.8438\n",
      "Epoch 16/100\n",
      "200/200 [==============================] - 1s 4ms/step - loss: 0.3455 - accuracy: 0.8583 - val_loss: 0.3529 - val_accuracy: 0.8462\n",
      "Epoch 17/100\n",
      "200/200 [==============================] - 1s 4ms/step - loss: 0.3440 - accuracy: 0.8587 - val_loss: 0.3528 - val_accuracy: 0.8438\n",
      "Epoch 18/100\n",
      "200/200 [==============================] - 1s 4ms/step - loss: 0.3436 - accuracy: 0.8603 - val_loss: 0.3517 - val_accuracy: 0.8481\n",
      "Epoch 19/100\n",
      "200/200 [==============================] - 1s 4ms/step - loss: 0.3427 - accuracy: 0.8602 - val_loss: 0.3514 - val_accuracy: 0.8450\n",
      "Epoch 20/100\n",
      "200/200 [==============================] - 1s 4ms/step - loss: 0.3418 - accuracy: 0.8612 - val_loss: 0.3512 - val_accuracy: 0.8487\n",
      "Epoch 21/100\n",
      "200/200 [==============================] - 1s 5ms/step - loss: 0.3415 - accuracy: 0.8620 - val_loss: 0.3507 - val_accuracy: 0.8456\n",
      "Epoch 22/100\n",
      "200/200 [==============================] - 1s 4ms/step - loss: 0.3409 - accuracy: 0.8614 - val_loss: 0.3502 - val_accuracy: 0.8475\n",
      "Epoch 23/100\n",
      "200/200 [==============================] - 1s 4ms/step - loss: 0.3397 - accuracy: 0.8619 - val_loss: 0.3513 - val_accuracy: 0.8462\n",
      "Epoch 24/100\n",
      "200/200 [==============================] - 1s 4ms/step - loss: 0.3393 - accuracy: 0.8625 - val_loss: 0.3517 - val_accuracy: 0.8456\n",
      "Epoch 25/100\n",
      "200/200 [==============================] - 1s 4ms/step - loss: 0.3384 - accuracy: 0.8623 - val_loss: 0.3532 - val_accuracy: 0.8481\n",
      "Epoch 26/100\n",
      "200/200 [==============================] - 1s 4ms/step - loss: 0.3381 - accuracy: 0.8620 - val_loss: 0.3507 - val_accuracy: 0.8494\n",
      "Epoch 27/100\n",
      "200/200 [==============================] - 1s 4ms/step - loss: 0.3377 - accuracy: 0.8631 - val_loss: 0.3511 - val_accuracy: 0.8481\n",
      "Epoch 28/100\n",
      "200/200 [==============================] - 1s 5ms/step - loss: 0.3372 - accuracy: 0.8616 - val_loss: 0.3506 - val_accuracy: 0.8494\n",
      "Epoch 29/100\n",
      "200/200 [==============================] - 1s 4ms/step - loss: 0.3371 - accuracy: 0.8625 - val_loss: 0.3490 - val_accuracy: 0.8475\n",
      "Epoch 30/100\n",
      "200/200 [==============================] - 1s 4ms/step - loss: 0.3357 - accuracy: 0.8628 - val_loss: 0.3540 - val_accuracy: 0.8500\n",
      "Epoch 31/100\n",
      "200/200 [==============================] - 1s 4ms/step - loss: 0.3357 - accuracy: 0.8636 - val_loss: 0.3521 - val_accuracy: 0.8462\n",
      "Epoch 32/100\n",
      "200/200 [==============================] - 1s 4ms/step - loss: 0.3357 - accuracy: 0.8612 - val_loss: 0.3493 - val_accuracy: 0.8462\n",
      "Epoch 33/100\n",
      "200/200 [==============================] - 1s 4ms/step - loss: 0.3349 - accuracy: 0.8637 - val_loss: 0.3496 - val_accuracy: 0.8462\n",
      "Epoch 34/100\n",
      "200/200 [==============================] - 1s 5ms/step - loss: 0.3346 - accuracy: 0.8637 - val_loss: 0.3493 - val_accuracy: 0.8450\n",
      "Epoch 35/100\n",
      "200/200 [==============================] - 1s 4ms/step - loss: 0.3346 - accuracy: 0.8645 - val_loss: 0.3489 - val_accuracy: 0.8481\n",
      "Epoch 36/100\n",
      "200/200 [==============================] - 1s 4ms/step - loss: 0.3340 - accuracy: 0.8628 - val_loss: 0.3489 - val_accuracy: 0.8462\n",
      "Epoch 37/100\n",
      "200/200 [==============================] - 1s 4ms/step - loss: 0.3338 - accuracy: 0.8647 - val_loss: 0.3489 - val_accuracy: 0.8487\n",
      "Epoch 38/100\n",
      "200/200 [==============================] - 1s 4ms/step - loss: 0.3336 - accuracy: 0.8628 - val_loss: 0.3488 - val_accuracy: 0.8462\n",
      "Epoch 39/100\n",
      "200/200 [==============================] - 1s 5ms/step - loss: 0.3330 - accuracy: 0.8631 - val_loss: 0.3492 - val_accuracy: 0.8462\n",
      "Epoch 40/100\n",
      "200/200 [==============================] - 1s 4ms/step - loss: 0.3328 - accuracy: 0.8634 - val_loss: 0.3489 - val_accuracy: 0.8462\n",
      "Epoch 41/100\n",
      "200/200 [==============================] - 1s 4ms/step - loss: 0.3323 - accuracy: 0.8645 - val_loss: 0.3489 - val_accuracy: 0.8469\n",
      "Epoch 42/100\n",
      "200/200 [==============================] - 1s 4ms/step - loss: 0.3318 - accuracy: 0.8645 - val_loss: 0.3512 - val_accuracy: 0.8438\n",
      "Epoch 43/100\n",
      "200/200 [==============================] - 1s 4ms/step - loss: 0.3316 - accuracy: 0.8650 - val_loss: 0.3487 - val_accuracy: 0.8506\n",
      "Epoch 44/100\n",
      "200/200 [==============================] - 1s 4ms/step - loss: 0.3309 - accuracy: 0.8662 - val_loss: 0.3482 - val_accuracy: 0.8487\n",
      "Epoch 45/100\n",
      "200/200 [==============================] - 1s 4ms/step - loss: 0.3301 - accuracy: 0.8648 - val_loss: 0.3506 - val_accuracy: 0.8487\n",
      "Epoch 46/100\n",
      "200/200 [==============================] - 1s 4ms/step - loss: 0.3301 - accuracy: 0.8652 - val_loss: 0.3496 - val_accuracy: 0.8456\n",
      "Epoch 47/100\n",
      "200/200 [==============================] - 1s 4ms/step - loss: 0.3301 - accuracy: 0.8667 - val_loss: 0.3489 - val_accuracy: 0.8500\n",
      "Epoch 48/100\n",
      "200/200 [==============================] - 1s 4ms/step - loss: 0.3299 - accuracy: 0.8658 - val_loss: 0.3496 - val_accuracy: 0.8500\n",
      "Epoch 49/100\n",
      "200/200 [==============================] - 1s 4ms/step - loss: 0.3293 - accuracy: 0.8650 - val_loss: 0.3517 - val_accuracy: 0.8475\n",
      "Epoch 50/100\n",
      "200/200 [==============================] - 1s 4ms/step - loss: 0.3288 - accuracy: 0.8667 - val_loss: 0.3502 - val_accuracy: 0.8494\n",
      "Epoch 51/100\n",
      "200/200 [==============================] - 1s 4ms/step - loss: 0.3283 - accuracy: 0.8653 - val_loss: 0.3511 - val_accuracy: 0.8469\n",
      "Epoch 52/100\n",
      "200/200 [==============================] - 1s 4ms/step - loss: 0.3278 - accuracy: 0.8645 - val_loss: 0.3514 - val_accuracy: 0.8494\n",
      "Epoch 53/100\n",
      "200/200 [==============================] - 1s 4ms/step - loss: 0.3276 - accuracy: 0.8677 - val_loss: 0.3508 - val_accuracy: 0.8481\n",
      "Epoch 54/100\n",
      "200/200 [==============================] - 1s 4ms/step - loss: 0.3271 - accuracy: 0.8677 - val_loss: 0.3526 - val_accuracy: 0.8487\n",
      "Epoch 55/100\n",
      "200/200 [==============================] - 1s 4ms/step - loss: 0.3264 - accuracy: 0.8655 - val_loss: 0.3511 - val_accuracy: 0.8475\n",
      "Epoch 56/100\n",
      "200/200 [==============================] - 1s 4ms/step - loss: 0.3264 - accuracy: 0.8637 - val_loss: 0.3516 - val_accuracy: 0.8475\n",
      "Epoch 57/100\n",
      "200/200 [==============================] - 1s 4ms/step - loss: 0.3259 - accuracy: 0.8675 - val_loss: 0.3530 - val_accuracy: 0.8487\n"
     ]
    },
    {
     "name": "stdout",
     "output_type": "stream",
     "text": [
      "Epoch 58/100\n",
      "200/200 [==============================] - 1s 4ms/step - loss: 0.3251 - accuracy: 0.8684 - val_loss: 0.3507 - val_accuracy: 0.8469\n",
      "Epoch 59/100\n",
      "200/200 [==============================] - 1s 4ms/step - loss: 0.3254 - accuracy: 0.8683 - val_loss: 0.3501 - val_accuracy: 0.8475\n",
      "Epoch 60/100\n",
      "200/200 [==============================] - 1s 4ms/step - loss: 0.3250 - accuracy: 0.8664 - val_loss: 0.3505 - val_accuracy: 0.8500\n",
      "Epoch 61/100\n",
      "200/200 [==============================] - 1s 4ms/step - loss: 0.3246 - accuracy: 0.8659 - val_loss: 0.3511 - val_accuracy: 0.8469\n",
      "Epoch 62/100\n",
      "200/200 [==============================] - 1s 4ms/step - loss: 0.3247 - accuracy: 0.8666 - val_loss: 0.3515 - val_accuracy: 0.8475\n",
      "Epoch 63/100\n",
      "200/200 [==============================] - 1s 4ms/step - loss: 0.3241 - accuracy: 0.8672 - val_loss: 0.3521 - val_accuracy: 0.8469\n",
      "Epoch 64/100\n",
      "200/200 [==============================] - 1s 4ms/step - loss: 0.3242 - accuracy: 0.8666 - val_loss: 0.3511 - val_accuracy: 0.8462\n",
      "Epoch 65/100\n",
      "200/200 [==============================] - 1s 4ms/step - loss: 0.3241 - accuracy: 0.8670 - val_loss: 0.3515 - val_accuracy: 0.8481\n",
      "Epoch 66/100\n",
      "200/200 [==============================] - 1s 4ms/step - loss: 0.3232 - accuracy: 0.8673 - val_loss: 0.3538 - val_accuracy: 0.8481\n",
      "Epoch 67/100\n",
      "200/200 [==============================] - 1s 4ms/step - loss: 0.3235 - accuracy: 0.8656 - val_loss: 0.3503 - val_accuracy: 0.8450\n",
      "Epoch 68/100\n",
      "200/200 [==============================] - 1s 4ms/step - loss: 0.3233 - accuracy: 0.8673 - val_loss: 0.3505 - val_accuracy: 0.8481\n",
      "Epoch 69/100\n",
      "200/200 [==============================] - 1s 4ms/step - loss: 0.3230 - accuracy: 0.8669 - val_loss: 0.3511 - val_accuracy: 0.8494\n",
      "Epoch 70/100\n",
      "200/200 [==============================] - 1s 4ms/step - loss: 0.3228 - accuracy: 0.8683 - val_loss: 0.3514 - val_accuracy: 0.8500\n",
      "Epoch 71/100\n",
      "200/200 [==============================] - 1s 4ms/step - loss: 0.3226 - accuracy: 0.8664 - val_loss: 0.3529 - val_accuracy: 0.8456\n",
      "Epoch 72/100\n",
      "200/200 [==============================] - 1s 4ms/step - loss: 0.3224 - accuracy: 0.8673 - val_loss: 0.3520 - val_accuracy: 0.8481\n",
      "Epoch 73/100\n",
      "200/200 [==============================] - 1s 4ms/step - loss: 0.3219 - accuracy: 0.8689 - val_loss: 0.3521 - val_accuracy: 0.8475\n",
      "Epoch 74/100\n",
      "200/200 [==============================] - 1s 4ms/step - loss: 0.3218 - accuracy: 0.8669 - val_loss: 0.3523 - val_accuracy: 0.8481\n",
      "Epoch 75/100\n",
      "200/200 [==============================] - 1s 4ms/step - loss: 0.3219 - accuracy: 0.8675 - val_loss: 0.3523 - val_accuracy: 0.8450\n",
      "Epoch 76/100\n",
      "200/200 [==============================] - 1s 4ms/step - loss: 0.3224 - accuracy: 0.8669 - val_loss: 0.3508 - val_accuracy: 0.8487\n",
      "Epoch 77/100\n",
      "200/200 [==============================] - 1s 4ms/step - loss: 0.3219 - accuracy: 0.8659 - val_loss: 0.3515 - val_accuracy: 0.8487\n",
      "Epoch 78/100\n",
      "200/200 [==============================] - 1s 4ms/step - loss: 0.3211 - accuracy: 0.8667 - val_loss: 0.3499 - val_accuracy: 0.8494\n",
      "Epoch 79/100\n",
      "200/200 [==============================] - 1s 4ms/step - loss: 0.3212 - accuracy: 0.8673 - val_loss: 0.3508 - val_accuracy: 0.8525\n",
      "Epoch 80/100\n",
      "200/200 [==============================] - 1s 4ms/step - loss: 0.3216 - accuracy: 0.8694 - val_loss: 0.3512 - val_accuracy: 0.8500\n",
      "Epoch 81/100\n",
      "200/200 [==============================] - 1s 4ms/step - loss: 0.3208 - accuracy: 0.8678 - val_loss: 0.3517 - val_accuracy: 0.8500\n",
      "Epoch 82/100\n",
      "200/200 [==============================] - 1s 4ms/step - loss: 0.3209 - accuracy: 0.8686 - val_loss: 0.3552 - val_accuracy: 0.8481\n",
      "Epoch 83/100\n",
      "200/200 [==============================] - 1s 4ms/step - loss: 0.3206 - accuracy: 0.8672 - val_loss: 0.3540 - val_accuracy: 0.8462\n",
      "Epoch 84/100\n",
      "200/200 [==============================] - 1s 4ms/step - loss: 0.3208 - accuracy: 0.8673 - val_loss: 0.3512 - val_accuracy: 0.8512\n",
      "Epoch 85/100\n",
      "200/200 [==============================] - 1s 4ms/step - loss: 0.3203 - accuracy: 0.8677 - val_loss: 0.3573 - val_accuracy: 0.8469\n",
      "Epoch 86/100\n",
      "200/200 [==============================] - 1s 4ms/step - loss: 0.3205 - accuracy: 0.8683 - val_loss: 0.3515 - val_accuracy: 0.8506\n",
      "Epoch 87/100\n",
      "200/200 [==============================] - 1s 4ms/step - loss: 0.3202 - accuracy: 0.8675 - val_loss: 0.3542 - val_accuracy: 0.8481\n",
      "Epoch 88/100\n",
      "200/200 [==============================] - 1s 4ms/step - loss: 0.3209 - accuracy: 0.8672 - val_loss: 0.3529 - val_accuracy: 0.8462\n",
      "Epoch 89/100\n",
      "200/200 [==============================] - 1s 4ms/step - loss: 0.3199 - accuracy: 0.8678 - val_loss: 0.3536 - val_accuracy: 0.8475\n",
      "Epoch 90/100\n",
      "200/200 [==============================] - 1s 4ms/step - loss: 0.3202 - accuracy: 0.8680 - val_loss: 0.3524 - val_accuracy: 0.8462\n",
      "Epoch 91/100\n",
      "200/200 [==============================] - 1s 4ms/step - loss: 0.3201 - accuracy: 0.8680 - val_loss: 0.3524 - val_accuracy: 0.8494\n",
      "Epoch 92/100\n",
      "200/200 [==============================] - 1s 4ms/step - loss: 0.3191 - accuracy: 0.8672 - val_loss: 0.3517 - val_accuracy: 0.8481\n",
      "Epoch 93/100\n",
      "200/200 [==============================] - 1s 4ms/step - loss: 0.3203 - accuracy: 0.8667 - val_loss: 0.3526 - val_accuracy: 0.8462\n",
      "Epoch 94/100\n",
      "200/200 [==============================] - 1s 5ms/step - loss: 0.3192 - accuracy: 0.8673 - val_loss: 0.3548 - val_accuracy: 0.8475\n",
      "Epoch 95/100\n",
      "200/200 [==============================] - 1s 4ms/step - loss: 0.3191 - accuracy: 0.8703 - val_loss: 0.3539 - val_accuracy: 0.8475\n",
      "Epoch 96/100\n",
      "200/200 [==============================] - 1s 4ms/step - loss: 0.3189 - accuracy: 0.8692 - val_loss: 0.3511 - val_accuracy: 0.8494\n",
      "Epoch 97/100\n",
      "200/200 [==============================] - 1s 4ms/step - loss: 0.3185 - accuracy: 0.8695 - val_loss: 0.3537 - val_accuracy: 0.8456\n",
      "Epoch 98/100\n",
      "200/200 [==============================] - 1s 5ms/step - loss: 0.3192 - accuracy: 0.8692 - val_loss: 0.3522 - val_accuracy: 0.8500\n",
      "Epoch 99/100\n",
      "200/200 [==============================] - 1s 4ms/step - loss: 0.3184 - accuracy: 0.8694 - val_loss: 0.3530 - val_accuracy: 0.8500\n",
      "Epoch 100/100\n",
      "200/200 [==============================] - 1s 4ms/step - loss: 0.3184 - accuracy: 0.8680 - val_loss: 0.3532 - val_accuracy: 0.8487\n"
     ]
    }
   ],
   "source": [
    "history = model.fit(X_train_scaled, y_train, epochs = 100, validation_split = 0.2)"
   ]
  },
  {
   "cell_type": "code",
   "execution_count": 22,
   "id": "17f40850",
   "metadata": {},
   "outputs": [
    {
     "data": {
      "text/plain": [
       "[<matplotlib.lines.Line2D at 0x285ca71f040>]"
      ]
     },
     "execution_count": 22,
     "metadata": {},
     "output_type": "execute_result"
    },
    {
     "data": {
      "image/png": "[encoded data removed]",
      "text/plain": [
       "<Figure size 432x288 with 1 Axes>"
      ]
     },
     "metadata": {
      "needs_background": "light"
     },
     "output_type": "display_data"
    }
   ],
   "source": [
    "plt.plot(history.history['loss'])\n",
    "plt.plot(history.history['val_loss'])"
   ]
  },
  {
   "cell_type": "code",
   "execution_count": 23,
   "id": "71e645f5",
   "metadata": {},
   "outputs": [
    {
     "data": {
      "text/plain": [
       "[<matplotlib.lines.Line2D at 0x285cc811f00>]"
      ]
     },
     "execution_count": 23,
     "metadata": {},
     "output_type": "execute_result"
    },
    {
     "data": {
      "image/png": "[encoded data removed]",
      "text/plain": [
       "<Figure size 432x288 with 1 Axes>"
      ]
     },
     "metadata": {
      "needs_background": "light"
     },
     "output_type": "display_data"
    }
   ],
   "source": [
    "plt.plot(history.history['accuracy'])\n",
    "plt.plot(history.history['val_accuracy'])"
   ]
  },
  {
   "cell_type": "code",
   "execution_count": 24,
   "id": "2b2fa349",
   "metadata": {
    "scrolled": true
   },
   "outputs": [
    {
     "data": {
      "text/plain": [
       "[array([[-0.09011897,  0.02433511, -0.03251697, -0.12756413,  0.1518851 ,\n",
       "          0.19065645, -0.33773893, -0.15112557, -0.1131882 , -0.04594292,\n",
       "          0.42448238],\n",
       "        [-0.7282736 ,  0.6129923 , -1.0223733 ,  0.00950949, -0.7026052 ,\n",
       "          0.13283275,  0.6986848 , -0.08567677,  0.3691894 , -0.09642483,\n",
       "         -0.2602428 ],\n",
       "        [ 0.08151449,  0.2511403 ,  0.01386339, -0.15532851,  0.3684487 ,\n",
       "          0.2649654 ,  0.18309084, -0.00683231,  0.21331316, -0.26957452,\n",
       "         -0.15280408],\n",
       "        [-0.56763184,  0.02049828,  0.00808189,  0.77757126, -0.5154909 ,\n",
       "         -0.11290184, -0.6265275 , -0.81279355, -0.03163148, -0.18706024,\n",
       "         -0.430062  ],\n",
       "        [-0.3009777 ,  0.06950563, -0.0058711 , -1.0892804 , -0.39761564,\n",
       "         -1.1788003 ,  0.23879328, -0.95353657,  1.2521923 ,  0.6854754 ,\n",
       "         -0.30144233],\n",
       "        [-0.2965977 ,  0.31681937, -0.0165199 , -0.16602619,  0.46909326,\n",
       "         -0.12005045, -0.29949933, -0.09481917, -0.14019522,  0.39551157,\n",
       "         -0.7357305 ],\n",
       "        [-0.2337594 ,  0.77945197, -0.30184963, -0.21203427,  0.09891328,\n",
       "         -0.49510562,  0.5943577 ,  0.05001067,  0.05657272,  0.19804206,\n",
       "          0.22971301],\n",
       "        [-0.4421461 ,  0.1691622 , -0.03601214, -0.08861195,  0.06385615,\n",
       "          0.03203576, -0.18062343, -0.0684713 , -0.08712193, -0.09716059,\n",
       "          0.22990116],\n",
       "        [-0.49312615, -0.21393403,  0.05985748,  0.21523932, -0.7130517 ,\n",
       "         -0.15520675,  0.13307442,  0.17348832, -0.0036031 , -0.21178222,\n",
       "         -0.02841019],\n",
       "        [ 0.3919265 ,  0.03373192, -1.2293832 , -0.23727016,  0.51514596,\n",
       "          0.35032067, -0.20691156, -0.17011252,  0.0613111 , -0.38768426,\n",
       "          0.13835807],\n",
       "        [-0.1570326 ,  0.11224893,  0.02731163,  0.21865271,  0.06611906,\n",
       "         -0.13779606,  0.18989317, -0.02007136, -0.09159999,  0.36162347,\n",
       "          0.16112246]], dtype=float32),\n",
       " array([ 0.40941015, -0.14653803,  0.625235  , -0.05253632,  0.37121195,\n",
       "         0.1545601 ,  0.31605384,  0.05790162,  0.1097267 ,  0.6265638 ,\n",
       "         0.28071764], dtype=float32)]"
      ]
     },
     "execution_count": 24,
     "metadata": {},
     "output_type": "execute_result"
    }
   ],
   "source": [
    "model.layers[0].get_weights()"
   ]
  },
  {
   "cell_type": "code",
   "execution_count": 25,
   "id": "c6226490",
   "metadata": {
    "scrolled": true
   },
   "outputs": [
    {
     "data": {
      "text/plain": [
       "[array([[-8.09965432e-01, -5.21057487e-01, -4.86337900e-01,\n",
       "         -2.95285910e-01, -6.25471324e-02,  4.60953340e-02,\n",
       "          3.28008384e-01, -1.08104020e-01, -8.23495686e-02,\n",
       "          1.99678943e-01, -9.73017097e-01],\n",
       "        [ 3.45158070e-01, -5.49186945e-01, -2.97053494e-02,\n",
       "          2.12002099e-02,  6.93384111e-02, -4.34403270e-01,\n",
       "          8.04375947e-01,  1.50429621e-01,  2.50908285e-01,\n",
       "          3.63843292e-02,  3.72087695e-02],\n",
       "        [ 3.59185301e-02, -6.77735388e-01,  1.77278042e-01,\n",
       "         -1.73429102e-01,  1.10158570e-01,  3.00453037e-01,\n",
       "          5.17514646e-01,  5.39240122e-01,  5.37757397e-01,\n",
       "          4.17745620e-01, -9.54545915e-01],\n",
       "        [ 2.87763238e-01, -1.91279352e-01,  5.39133608e-01,\n",
       "          5.38742065e-01,  1.22152813e-01, -8.07743967e-01,\n",
       "          6.21130355e-02, -3.27165961e-01,  3.57490336e-03,\n",
       "          8.12207013e-02,  6.79830909e-01],\n",
       "        [-2.15505064e-02, -4.19353962e-01, -1.04526377e+00,\n",
       "          5.29790640e-01, -1.13527015e-01,  4.14397597e-01,\n",
       "         -5.05161397e-02, -4.30931933e-02, -2.89602607e-01,\n",
       "          6.17234886e-01, -4.92047034e-02],\n",
       "        [ 6.57280758e-02,  7.73084998e-01,  7.25119114e-02,\n",
       "          2.17141494e-01, -2.55860001e-01,  4.67937291e-01,\n",
       "         -1.58387110e-01, -6.39602244e-01,  2.55900711e-01,\n",
       "          6.79574115e-03, -2.49566026e-02],\n",
       "        [ 2.34615237e-01, -2.07598060e-01,  1.47011634e-02,\n",
       "          3.71670514e-01,  2.24785283e-01,  3.60849768e-01,\n",
       "          2.44668648e-01,  7.81236231e-01, -5.88013113e-01,\n",
       "         -5.15152752e-01, -2.52278984e-01],\n",
       "        [-1.34670258e+00,  5.57770133e-01, -4.21449244e-01,\n",
       "         -4.10340399e-01, -7.45026112e-01,  1.39191598e-01,\n",
       "         -3.17787945e-01,  9.11119506e-02, -7.11056292e-01,\n",
       "         -4.02202815e-01,  6.31402969e-01],\n",
       "        [-1.08651780e-01,  6.74389899e-01, -5.80692351e-01,\n",
       "         -1.81902021e-01, -3.35289150e-01, -1.88014245e+00,\n",
       "          3.36710691e-01, -2.31174603e-02,  9.29900765e-01,\n",
       "          7.56705478e-02,  5.29780686e-01],\n",
       "        [ 4.83655542e-01,  4.93368179e-01, -2.92122424e-01,\n",
       "          5.08059621e-01,  4.86536115e-01,  9.48292986e-02,\n",
       "          8.46342891e-02, -5.51965535e-01,  3.74671787e-01,\n",
       "          4.95509863e-01,  2.11597696e-01],\n",
       "        [-7.24041224e-01, -6.61027210e-04,  1.13352425e-01,\n",
       "          4.57086772e-01,  3.09336394e-01,  4.03187364e-01,\n",
       "          9.29375291e-02, -5.69668233e-01,  1.21031523e-01,\n",
       "          6.75243139e-01, -2.38022044e-01]], dtype=float32),\n",
       " array([ 0.08523957, -0.09487091,  0.01104169,  0.23630616,  0.2808798 ,\n",
       "        -0.19516747,  0.39206234,  0.15150246, -0.4007696 ,  0.46794942,\n",
       "         0.10112116], dtype=float32)]"
      ]
     },
     "execution_count": 25,
     "metadata": {},
     "output_type": "execute_result"
    }
   ],
   "source": [
    "model.layers[1].get_weights()"
   ]
  },
  {
   "cell_type": "code",
   "execution_count": 26,
   "id": "eb95e69f",
   "metadata": {},
   "outputs": [
    {
     "data": {
      "text/plain": [
       "[array([[-0.66840875],\n",
       "        [ 1.6560273 ],\n",
       "        [ 0.79375654],\n",
       "        [-0.14289065],\n",
       "        [-0.7455537 ],\n",
       "        [ 0.7316592 ],\n",
       "        [-0.23851296],\n",
       "        [-0.74267   ],\n",
       "        [ 0.7965459 ],\n",
       "        [-0.7772254 ],\n",
       "        [ 1.341876  ]], dtype=float32),\n",
       " array([-0.30002025], dtype=float32)]"
      ]
     },
     "execution_count": 26,
     "metadata": {},
     "output_type": "execute_result"
    }
   ],
   "source": [
    "model.layers[2].get_weights()"
   ]
  },
  {
   "cell_type": "code",
   "execution_count": 27,
   "id": "b73adea8",
   "metadata": {},
   "outputs": [
    {
     "data": {
      "text/plain": [
       "array([[0.08501732],\n",
       "       [0.06224576],\n",
       "       [0.0588274 ],\n",
       "       ...,\n",
       "       [0.01665312],\n",
       "       [0.07557964],\n",
       "       [0.49316615]], dtype=float32)"
      ]
     },
     "execution_count": 27,
     "metadata": {},
     "output_type": "execute_result"
    }
   ],
   "source": [
    "y_log = model.predict(X_test_scaled)\n",
    "y_log"
   ]
  },
  {
   "cell_type": "code",
   "execution_count": 28,
   "id": "c95a2db7",
   "metadata": {},
   "outputs": [
    {
     "data": {
      "text/plain": [
       "array([[0],\n",
       "       [0],\n",
       "       [0],\n",
       "       ...,\n",
       "       [0],\n",
       "       [0],\n",
       "       [0]])"
      ]
     },
     "execution_count": 28,
     "metadata": {},
     "output_type": "execute_result"
    }
   ],
   "source": [
    "y_pred = np.where(y_log > 0.5, 1, 0)\n",
    "y_pred"
   ]
  },
  {
   "cell_type": "code",
   "execution_count": 29,
   "id": "ceabb65e",
   "metadata": {},
   "outputs": [
    {
     "data": {
      "text/plain": [
       "0.863"
      ]
     },
     "execution_count": 29,
     "metadata": {},
     "output_type": "execute_result"
    }
   ],
   "source": [
    "from sklearn.metrics import accuracy_score\n",
    "\n",
    "accuracy_score(y_test, y_pred)"
   ]
  },
  {
   "cell_type": "code",
   "execution_count": null,
   "id": "617212b8",
   "metadata": {},
   "outputs": [],
   "source": []
  }
 ],
 "metadata": {
  "kernelspec": {
   "display_name": "Python 3 (ipykernel)",
   "language": "python",
   "name": "python3"
  },
  "language_info": {
   "codemirror_mode": {
    "name": "ipython",
    "version": 3
   },
   "file_extension": ".py",
   "mimetype": "text/x-python",
   "name": "python",
   "nbconvert_exporter": "python",
   "pygments_lexer": "ipython3",
   "version": "3.10.2"
  }
 },
 "nbformat": 4,
 "nbformat_minor": 5
}
